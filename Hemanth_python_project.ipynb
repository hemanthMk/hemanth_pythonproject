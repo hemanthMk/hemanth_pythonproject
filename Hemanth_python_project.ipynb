{
  "nbformat": 4,
  "nbformat_minor": 0,
  "metadata": {
    "colab": {
      "name": "Hemanth  python project.ipynb",
      "provenance": []
    },
    "kernelspec": {
      "name": "python3",
      "display_name": "Python 3"
    },
    "language_info": {
      "name": "python"
    }
  },
  "cells": [
    {
      "cell_type": "code",
      "metadata": {
        "id": "PCpdBec_GFQz"
      },
      "source": [
        "import numpy as np\n",
        "import  pandas as pd \n",
        "import sklearn\n"
      ],
      "execution_count": 9,
      "outputs": []
    },
    {
      "cell_type": "code",
      "metadata": {
        "id": "a_0w-LNcIP-V"
      },
      "source": [
        " from  sklearn.datasets  import  load_boston\n",
        " df=load_boston\n",
        " "
      ],
      "execution_count": 8,
      "outputs": []
    },
    {
      "cell_type": "code",
      "metadata": {
        "id": "CoSB7UN7KkdU"
      },
      "source": [
        "df.keys()"
      ],
      "execution_count": null,
      "outputs": []
    },
    {
      "cell_type": "code",
      "metadata": {
        "id": "4p7ChK3nK2nQ"
      },
      "source": [
        "print(df.DESCR)"
      ],
      "execution_count": null,
      "outputs": []
    },
    {
      "cell_type": "code",
      "metadata": {
        "id": "QP0USAUTLZ1h"
      },
      "source": [
        "boston=pd.DataFrame(df.data,columns=df.feature_names)\n",
        "boston.head()"
      ],
      "execution_count": null,
      "outputs": []
    },
    {
      "cell_type": "code",
      "metadata": {
        "id": "swak72WdMyFj"
      },
      "source": [
        "boston['MEDV']=df.target\n",
        "boson.head()"
      ],
      "execution_count": null,
      "outputs": []
    },
    {
      "cell_type": "code",
      "metadata": {
        "id": "lCG_aoQcNQ7V"
      },
      "source": [
        "boston.isnull()"
      ],
      "execution_count": null,
      "outputs": []
    },
    {
      "cell_type": "code",
      "metadata": {
        "id": "W7kS1VjpNgkK"
      },
      "source": [
        "boston.isnull.sum()"
      ],
      "execution_count": null,
      "outputs": []
    },
    {
      "cell_type": "code",
      "metadata": {
        "id": "c_kU0m-LN0Vp"
      },
      "source": [
        "from sklearn.model_selection import train_test_split\n",
        "   X=boston.drop('MEDV',axis=1)\n",
        "   Y=boston('MEDV')\n",
        "   X_train, X_test,Y_train,Y_test = train_test_split(X,Y,test_size=0.15,random_state=5)\n",
        "   print(X_train.shape) \n",
        "   print(X_test.shape)\n",
        "   print(Y_train.shape)\n",
        "   print(Y_test.shape)"
      ],
      "execution_count": null,
      "outputs": []
    },
    {
      "cell_type": "code",
      "metadata": {
        "id": "06UU4CY2PxJg"
      },
      "source": [
        "from sklearn.linear_model import  LinearRegression\n",
        "from sklearn.metrics  import mean_squared_error "
      ],
      "execution_count": null,
      "outputs": []
    },
    {
      "cell_type": "code",
      "metadata": {
        "id": "VxCP9PWiRAJU"
      },
      "source": [
        "lin_model=LinearRegrssion()\n",
        "lin_model.fit(X_train,Y_train)"
      ],
      "execution_count": null,
      "outputs": []
    },
    {
      "cell_type": "code",
      "metadata": {
        "id": "QW_rEfPvRbrz"
      },
      "source": [
        "y_train_predict = lin_model.predict(X_train)\n",
        "rmse =(np.sqrt(mean_squared_error(Y_train,y_train_predict)))\n",
        "print(\"the model performance for training set\")\n",
        "print(\"RMSE is { }\" .format(rmse))\n",
        "print(\"\\n\")\n",
        "y_test_predict=lin_model.predict(X_test)\n",
        "rmse=(np.sqrt(mean_squared_error(Y_test,y_test_predict)))\n",
        "print(\"the model peformance for testing set\")\n",
        "print(\"RMSE is{}\".format(rmse))\n"
      ],
      "execution_count": null,
      "outputs": []
    }
  ]
}